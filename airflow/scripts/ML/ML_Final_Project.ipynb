{
  "nbformat": 4,
  "nbformat_minor": 0,
  "metadata": {
    "colab": {
      "provenance": []
    },
    "kernelspec": {
      "name": "python3",
      "display_name": "Python 3"
    },
    "language_info": {
      "name": "python"
    }
  },
  "cells": [
    {
      "cell_type": "markdown",
      "source": [
        "# Machine Learning - Final Project"
      ],
      "metadata": {
        "id": "TNVBlazBunhE"
      }
    },
    {
      "cell_type": "code",
      "source": [
        "import pandas as pd\n",
        "import numpy as np\n",
        "from sklearn import * \n",
        "import time   \n",
        "from sklearn.model_selection import train_test_split\n",
        "from sklearn.linear_model import LogisticRegression\n",
        "from sklearn.metrics import mean_absolute_error\n",
        "from sklearn.impute import SimpleImputer\n",
        "from sklearn.preprocessing import OneHotEncoder\n",
        "from sklearn.compose import ColumnTransformer"
      ],
      "metadata": {
        "id": "opEs2hDxfpaE"
      },
      "execution_count": null,
      "outputs": []
    },
    {
      "cell_type": "markdown",
      "source": [
        "##Get Data From CSV or DB"
      ],
      "metadata": {
        "id": "qs4bVMuPufoB"
      }
    },
    {
      "cell_type": "code",
      "source": [
        "train_data = pd.read_csv(\"application_train.csv\")\n",
        "test_data = pd.read_csv(\"application_test.csv\")"
      ],
      "metadata": {
        "id": "l08fbYfPYokm"
      },
      "execution_count": null,
      "outputs": []
    },
    {
      "cell_type": "code",
      "source": [
        "train_data.head()"
      ],
      "metadata": {
        "id": "pD_PxfJactKP"
      },
      "execution_count": null,
      "outputs": []
    },
    {
      "cell_type": "code",
      "source": [
        "test_data.head()"
      ],
      "metadata": {
        "id": "bMGAZzhlcwPs"
      },
      "execution_count": null,
      "outputs": []
    },
    {
      "cell_type": "code",
      "source": [
        "train_data.info()"
      ],
      "metadata": {
        "id": "arYqKzY2c3sM"
      },
      "execution_count": null,
      "outputs": []
    },
    {
      "cell_type": "code",
      "source": [
        "test_data.info()"
      ],
      "metadata": {
        "id": "ck8ex1ztc5CQ"
      },
      "execution_count": null,
      "outputs": []
    },
    {
      "cell_type": "markdown",
      "source": [
        "####Check Data Label Distribution"
      ],
      "metadata": {
        "id": "655RNX95vV8X"
      }
    },
    {
      "cell_type": "code",
      "execution_count": null,
      "metadata": {
        "id": "b3tAnIj0A05d"
      },
      "outputs": [],
      "source": [
        "train_data.count()"
      ]
    },
    {
      "cell_type": "code",
      "source": [
        "test_data.count()"
      ],
      "metadata": {
        "id": "fV3bepddf-4t"
      },
      "execution_count": null,
      "outputs": []
    },
    {
      "cell_type": "code",
      "source": [
        "train_data.isna().sum()"
      ],
      "metadata": {
        "id": "TlUQnlufzf4c"
      },
      "execution_count": null,
      "outputs": []
    },
    {
      "cell_type": "code",
      "source": [
        "test_data.isna().sum()"
      ],
      "metadata": {
        "id": "W0hfZQRhzkYD"
      },
      "execution_count": null,
      "outputs": []
    },
    {
      "cell_type": "markdown",
      "source": [
        "##Preprocessing\n",
        "####Drop Column where Null > 60%"
      ],
      "metadata": {
        "id": "n-AItD4vu3Pn"
      }
    },
    {
      "cell_type": "code",
      "source": [
        "# Drop column with 60% null value\n",
        "train_data = train_data.drop(train_data.columns[train_data.isnull().mean()>.6],axis=1)\n",
        "test_data = test_data.drop(test_data.columns[test_data.isnull().mean()>.6],axis=1)"
      ],
      "metadata": {
        "id": "gm9xjrrWZEv0"
      },
      "execution_count": null,
      "outputs": []
    },
    {
      "cell_type": "code",
      "source": [
        "# Store Clean Data\n",
        "# train_data.to_sql('application_train_clean', engine, if_exists='replace', index=False)\n",
        "# test_data.to_sql('application_test_clean', engine, if_exists='replace', index=False)"
      ],
      "metadata": {
        "id": "9927R6EXaHBy"
      },
      "execution_count": null,
      "outputs": []
    },
    {
      "cell_type": "code",
      "source": [
        "X = train_data.drop(columns=[\"TARGET\"], axis=1)\n",
        "y = train_data[\"TARGET\"]\n",
        "X_test = test_data"
      ],
      "metadata": {
        "id": "TLCY0tvnyw4v"
      },
      "execution_count": null,
      "outputs": []
    },
    {
      "cell_type": "markdown",
      "source": [
        "####Data Splitting"
      ],
      "metadata": {
        "id": "1jafKePfRVjV"
      }
    },
    {
      "cell_type": "code",
      "source": [
        "X_train, X_test, y_train, y_test = train_test_split(X, y, test_size= 0.3)"
      ],
      "metadata": {
        "id": "Wvl7Aqt_V1FQ"
      },
      "execution_count": null,
      "outputs": []
    },
    {
      "cell_type": "code",
      "source": [
        "# Numerical data\n",
        "num=X.select_dtypes(exclude='object').columns\n"
      ],
      "metadata": {
        "id": "5aM8LoHk2KbB"
      },
      "execution_count": null,
      "outputs": []
    },
    {
      "cell_type": "code",
      "source": [
        "# Categorical data\n",
        "cat=X.select_dtypes(include='object').columns"
      ],
      "metadata": {
        "id": "F-U5AeCx5-5k"
      },
      "execution_count": null,
      "outputs": []
    },
    {
      "cell_type": "markdown",
      "source": [
        "####SimpleImputer"
      ],
      "metadata": {
        "id": "rnuUHCgq1wPB"
      }
    },
    {
      "cell_type": "code",
      "execution_count": null,
      "metadata": {
        "id": "SsuTDL-ZA05n"
      },
      "outputs": [],
      "source": [
        "impute = SimpleImputer(strategy='median')\n",
        "Xnum = impute.fit_transform(X[num])"
      ]
    },
    {
      "cell_type": "markdown",
      "source": [
        "####OneHotEncoder"
      ],
      "metadata": {
        "id": "kTHZx_Kj13Sf"
      }
    },
    {
      "cell_type": "code",
      "execution_count": null,
      "metadata": {
        "id": "0ll15XhZA05n"
      },
      "outputs": [],
      "source": [
        "encode = OneHotEncoder()\n",
        "Xcat = encode.fit_transform(X[cat])"
      ]
    },
    {
      "cell_type": "markdown",
      "source": [
        "##Modelling"
      ],
      "metadata": {
        "id": "RoaZ32Vj1UHq"
      }
    },
    {
      "cell_type": "code",
      "source": [
        "from sklearn.linear_model import LogisticRegression\n",
        "from imblearn.pipeline import Pipeline\n",
        "from sklearn.metrics import classification_report"
      ],
      "metadata": {
        "id": "rGIlB8pXVkk_"
      },
      "execution_count": null,
      "outputs": []
    },
    {
      "cell_type": "markdown",
      "source": [
        "####Transformer Steps"
      ],
      "metadata": {
        "id": "6-pfEmHg2RqC"
      }
    },
    {
      "cell_type": "code",
      "source": [
        "cat_trans = Pipeline([\n",
        "    ('c_i', SimpleImputer(strategy=\"most_frequent\")),\n",
        "    ('c', OneHotEncoder(handle_unknown=\"ignore\"))\n",
        "])\n",
        "\n",
        "num_trans = Pipeline([\n",
        "    ('n', SimpleImputer(strategy='median'))\n",
        "])\n",
        "\n",
        "transformer = [\n",
        "    ('c_t', cat_trans, cat),\n",
        "    ('n_t', num_trans, num)\n",
        "]"
      ],
      "metadata": {
        "id": "4sEYHAfsVFIG"
      },
      "execution_count": null,
      "outputs": []
    },
    {
      "cell_type": "markdown",
      "source": [
        "####Logistic Regression"
      ],
      "metadata": {
        "id": "ZAmSGWLy2xvH"
      }
    },
    {
      "cell_type": "code",
      "source": [
        "\n",
        "model_lr = Pipeline([\n",
        "    ('pre', ColumnTransformer(transformers=transformer)),\n",
        "    ('model', LogisticRegression())\n",
        "])"
      ],
      "metadata": {
        "id": "roFLTCsFVJ8u"
      },
      "execution_count": null,
      "outputs": []
    },
    {
      "cell_type": "code",
      "source": [
        "model_lr.fit(X_train, y_train)"
      ],
      "metadata": {
        "colab": {
          "base_uri": "https://localhost:8080/"
        },
        "id": "_KExnMjPaY3h",
        "outputId": "3cd1b8b3-445f-487d-d72e-3715241f2267"
      },
      "execution_count": null,
      "outputs": [
        {
          "output_type": "stream",
          "name": "stderr",
          "text": [
            "/usr/local/lib/python3.8/dist-packages/sklearn/linear_model/_logistic.py:814: ConvergenceWarning: lbfgs failed to converge (status=1):\n",
            "STOP: TOTAL NO. of ITERATIONS REACHED LIMIT.\n",
            "\n",
            "Increase the number of iterations (max_iter) or scale the data as shown in:\n",
            "    https://scikit-learn.org/stable/modules/preprocessing.html\n",
            "Please also refer to the documentation for alternative solver options:\n",
            "    https://scikit-learn.org/stable/modules/linear_model.html#logistic-regression\n",
            "  n_iter_i = _check_optimize_result(\n"
          ]
        },
        {
          "output_type": "execute_result",
          "data": {
            "text/plain": [
              "Pipeline(steps=[('pre',\n",
              "                 ColumnTransformer(transformers=[('c_t',\n",
              "                                                  Pipeline(steps=[('c_i',\n",
              "                                                                   SimpleImputer(strategy='most_frequent')),\n",
              "                                                                  ('c',\n",
              "                                                                   OneHotEncoder(handle_unknown='ignore'))]),\n",
              "                                                  Index(['NAME_CONTRACT_TYPE', 'CODE_GENDER', 'FLAG_OWN_CAR', 'FLAG_OWN_REALTY',\n",
              "       'NAME_TYPE_SUITE', 'NAME_INCOME_TYPE', 'NAME_EDUCATION_TYPE',\n",
              "       'NAME_FAMILY_STATUS', 'NAME_HOUSING_TYPE', 'O...\n",
              "       'FLAG_DOCUMENT_15', 'FLAG_DOCUMENT_16', 'FLAG_DOCUMENT_17',\n",
              "       'FLAG_DOCUMENT_18', 'FLAG_DOCUMENT_19', 'FLAG_DOCUMENT_20',\n",
              "       'FLAG_DOCUMENT_21', 'AMT_REQ_CREDIT_BUREAU_HOUR',\n",
              "       'AMT_REQ_CREDIT_BUREAU_DAY', 'AMT_REQ_CREDIT_BUREAU_WEEK',\n",
              "       'AMT_REQ_CREDIT_BUREAU_MON', 'AMT_REQ_CREDIT_BUREAU_QRT',\n",
              "       'AMT_REQ_CREDIT_BUREAU_YEAR'],\n",
              "      dtype='object'))])),\n",
              "                ('model', LogisticRegression())])"
            ]
          },
          "metadata": {},
          "execution_count": 17
        }
      ]
    },
    {
      "cell_type": "code",
      "source": [
        "#ML Model Report\n",
        "report = classification_report(y_test, model_lr.predict(X_test))\n",
        "print(report)\n"
      ],
      "metadata": {
        "colab": {
          "base_uri": "https://localhost:8080/"
        },
        "id": "C63OevmdVOO1",
        "outputId": "efb8a49a-fcb1-4114-fcc2-ca7c3bac70ff"
      },
      "execution_count": null,
      "outputs": [
        {
          "output_type": "stream",
          "name": "stdout",
          "text": [
            "              precision    recall  f1-score   support\n",
            "\n",
            "           0       0.92      1.00      0.96     52535\n",
            "           1       0.00      0.00      0.00      4538\n",
            "\n",
            "    accuracy                           0.92     57073\n",
            "   macro avg       0.46      0.50      0.48     57073\n",
            "weighted avg       0.85      0.92      0.88     57073\n",
            "\n"
          ]
        }
      ]
    },
    {
      "cell_type": "markdown",
      "source": [
        "####ML Model Test"
      ],
      "metadata": {
        "id": "_sw40mPg3OPg"
      }
    },
    {
      "cell_type": "markdown",
      "source": [
        "Test by using dataframe from application_test.csv data"
      ],
      "metadata": {
        "id": "3LCnjBtD_eLv"
      }
    },
    {
      "cell_type": "markdown",
      "source": [
        "####Prediction"
      ],
      "metadata": {
        "id": "xG7ZL4wD2_Vw"
      }
    },
    {
      "cell_type": "code",
      "source": [
        "y_predict = model_lr.predict(X_test)"
      ],
      "metadata": {
        "id": "5rce7FJJYOTN"
      },
      "execution_count": null,
      "outputs": []
    },
    {
      "cell_type": "markdown",
      "source": [
        "####Probability"
      ],
      "metadata": {
        "id": "FStS9Oyz3EfB"
      }
    },
    {
      "cell_type": "code",
      "source": [
        "y_prob = model_lr.predict_proba(X_test)"
      ],
      "metadata": {
        "id": "QKFUL8HRYZYO"
      },
      "execution_count": null,
      "outputs": []
    },
    {
      "cell_type": "code",
      "source": [
        "# ML Model Result DataFrame\n",
        "\n",
        "ml_result = X_test[['SK_ID_CURR']]\n",
        "\n",
        "ml_result['prediction_target'] = y_predict.tolist()\n",
        "ml_result['status'] = \"Not Accepted\"\n",
        "\n",
        "status = ml_result['prediction_target'] >= 1\n",
        "ml_result.loc[status, 'status'] = 'Accepted'\n",
        "ml_result['probability'] =  y_prob.tolist()\n",
        "ml_result"
      ],
      "metadata": {
        "colab": {
          "base_uri": "https://localhost:8080/",
          "height": 840
        },
        "id": "6eJQIgnNYljd",
        "outputId": "f97df60b-f196-43b7-90b4-c659fffe8cb7"
      },
      "execution_count": null,
      "outputs": [
        {
          "output_type": "stream",
          "name": "stderr",
          "text": [
            "<ipython-input-63-9f3b4d38bccc>:5: SettingWithCopyWarning: \n",
            "A value is trying to be set on a copy of a slice from a DataFrame.\n",
            "Try using .loc[row_indexer,col_indexer] = value instead\n",
            "\n",
            "See the caveats in the documentation: https://pandas.pydata.org/pandas-docs/stable/user_guide/indexing.html#returning-a-view-versus-a-copy\n",
            "  ml_result['prediction_target'] = y_predict.tolist()\n",
            "<ipython-input-63-9f3b4d38bccc>:6: SettingWithCopyWarning: \n",
            "A value is trying to be set on a copy of a slice from a DataFrame.\n",
            "Try using .loc[row_indexer,col_indexer] = value instead\n",
            "\n",
            "See the caveats in the documentation: https://pandas.pydata.org/pandas-docs/stable/user_guide/indexing.html#returning-a-view-versus-a-copy\n",
            "  ml_result['status'] = \"Not Accepted\"\n",
            "/usr/local/lib/python3.8/dist-packages/pandas/core/indexing.py:1817: SettingWithCopyWarning: \n",
            "A value is trying to be set on a copy of a slice from a DataFrame.\n",
            "Try using .loc[row_indexer,col_indexer] = value instead\n",
            "\n",
            "See the caveats in the documentation: https://pandas.pydata.org/pandas-docs/stable/user_guide/indexing.html#returning-a-view-versus-a-copy\n",
            "  self._setitem_single_column(loc, value, pi)\n",
            "<ipython-input-63-9f3b4d38bccc>:10: SettingWithCopyWarning: \n",
            "A value is trying to be set on a copy of a slice from a DataFrame.\n",
            "Try using .loc[row_indexer,col_indexer] = value instead\n",
            "\n",
            "See the caveats in the documentation: https://pandas.pydata.org/pandas-docs/stable/user_guide/indexing.html#returning-a-view-versus-a-copy\n",
            "  ml_result['probability'] =  y_prob.tolist()\n"
          ]
        },
        {
          "output_type": "execute_result",
          "data": {
            "text/plain": [
              "        SK_ID_CURR  prediction_target        status  \\\n",
              "188044      317990                  0  Not Accepted   \n",
              "2605        103042                  0  Not Accepted   \n",
              "147102      270555                  0  Not Accepted   \n",
              "117165      235873                  0  Not Accepted   \n",
              "139746      262042                  0  Not Accepted   \n",
              "...            ...                ...           ...   \n",
              "185395      314910                  0  Not Accepted   \n",
              "12666       114764                  0  Not Accepted   \n",
              "70954       182291                  0  Not Accepted   \n",
              "12040       114039                  0  Not Accepted   \n",
              "67502       178276                  0  Not Accepted   \n",
              "\n",
              "                                      probability  \n",
              "188044  [0.9149670653426192, 0.08503293465738085]  \n",
              "2605    [0.8792758244179346, 0.12072417558206534]  \n",
              "147102  [0.9634850102579063, 0.03651498974209362]  \n",
              "117165  [0.8850272374275409, 0.11497276257245914]  \n",
              "139746  [0.9325495294630359, 0.06745047053696401]  \n",
              "...                                           ...  \n",
              "185395  [0.9335569942423741, 0.06644300575762585]  \n",
              "12666   [0.9236891245642214, 0.07631087543577861]  \n",
              "70954   [0.9337366518537376, 0.06626334814626239]  \n",
              "12040   [0.9359456579383477, 0.06405434206165225]  \n",
              "67502   [0.9557446527602463, 0.04425534723975361]  \n",
              "\n",
              "[57073 rows x 4 columns]"
            ],
            "text/html": [
              "\n",
              "  <div id=\"df-6a85f985-d295-4fa8-9bbc-9fab4739169b\">\n",
              "    <div class=\"colab-df-container\">\n",
              "      <div>\n",
              "<style scoped>\n",
              "    .dataframe tbody tr th:only-of-type {\n",
              "        vertical-align: middle;\n",
              "    }\n",
              "\n",
              "    .dataframe tbody tr th {\n",
              "        vertical-align: top;\n",
              "    }\n",
              "\n",
              "    .dataframe thead th {\n",
              "        text-align: right;\n",
              "    }\n",
              "</style>\n",
              "<table border=\"1\" class=\"dataframe\">\n",
              "  <thead>\n",
              "    <tr style=\"text-align: right;\">\n",
              "      <th></th>\n",
              "      <th>SK_ID_CURR</th>\n",
              "      <th>prediction_target</th>\n",
              "      <th>status</th>\n",
              "      <th>probability</th>\n",
              "    </tr>\n",
              "  </thead>\n",
              "  <tbody>\n",
              "    <tr>\n",
              "      <th>188044</th>\n",
              "      <td>317990</td>\n",
              "      <td>0</td>\n",
              "      <td>Not Accepted</td>\n",
              "      <td>[0.9149670653426192, 0.08503293465738085]</td>\n",
              "    </tr>\n",
              "    <tr>\n",
              "      <th>2605</th>\n",
              "      <td>103042</td>\n",
              "      <td>0</td>\n",
              "      <td>Not Accepted</td>\n",
              "      <td>[0.8792758244179346, 0.12072417558206534]</td>\n",
              "    </tr>\n",
              "    <tr>\n",
              "      <th>147102</th>\n",
              "      <td>270555</td>\n",
              "      <td>0</td>\n",
              "      <td>Not Accepted</td>\n",
              "      <td>[0.9634850102579063, 0.03651498974209362]</td>\n",
              "    </tr>\n",
              "    <tr>\n",
              "      <th>117165</th>\n",
              "      <td>235873</td>\n",
              "      <td>0</td>\n",
              "      <td>Not Accepted</td>\n",
              "      <td>[0.8850272374275409, 0.11497276257245914]</td>\n",
              "    </tr>\n",
              "    <tr>\n",
              "      <th>139746</th>\n",
              "      <td>262042</td>\n",
              "      <td>0</td>\n",
              "      <td>Not Accepted</td>\n",
              "      <td>[0.9325495294630359, 0.06745047053696401]</td>\n",
              "    </tr>\n",
              "    <tr>\n",
              "      <th>...</th>\n",
              "      <td>...</td>\n",
              "      <td>...</td>\n",
              "      <td>...</td>\n",
              "      <td>...</td>\n",
              "    </tr>\n",
              "    <tr>\n",
              "      <th>185395</th>\n",
              "      <td>314910</td>\n",
              "      <td>0</td>\n",
              "      <td>Not Accepted</td>\n",
              "      <td>[0.9335569942423741, 0.06644300575762585]</td>\n",
              "    </tr>\n",
              "    <tr>\n",
              "      <th>12666</th>\n",
              "      <td>114764</td>\n",
              "      <td>0</td>\n",
              "      <td>Not Accepted</td>\n",
              "      <td>[0.9236891245642214, 0.07631087543577861]</td>\n",
              "    </tr>\n",
              "    <tr>\n",
              "      <th>70954</th>\n",
              "      <td>182291</td>\n",
              "      <td>0</td>\n",
              "      <td>Not Accepted</td>\n",
              "      <td>[0.9337366518537376, 0.06626334814626239]</td>\n",
              "    </tr>\n",
              "    <tr>\n",
              "      <th>12040</th>\n",
              "      <td>114039</td>\n",
              "      <td>0</td>\n",
              "      <td>Not Accepted</td>\n",
              "      <td>[0.9359456579383477, 0.06405434206165225]</td>\n",
              "    </tr>\n",
              "    <tr>\n",
              "      <th>67502</th>\n",
              "      <td>178276</td>\n",
              "      <td>0</td>\n",
              "      <td>Not Accepted</td>\n",
              "      <td>[0.9557446527602463, 0.04425534723975361]</td>\n",
              "    </tr>\n",
              "  </tbody>\n",
              "</table>\n",
              "<p>57073 rows × 4 columns</p>\n",
              "</div>\n",
              "      <button class=\"colab-df-convert\" onclick=\"convertToInteractive('df-6a85f985-d295-4fa8-9bbc-9fab4739169b')\"\n",
              "              title=\"Convert this dataframe to an interactive table.\"\n",
              "              style=\"display:none;\">\n",
              "        \n",
              "  <svg xmlns=\"http://www.w3.org/2000/svg\" height=\"24px\"viewBox=\"0 0 24 24\"\n",
              "       width=\"24px\">\n",
              "    <path d=\"M0 0h24v24H0V0z\" fill=\"none\"/>\n",
              "    <path d=\"M18.56 5.44l.94 2.06.94-2.06 2.06-.94-2.06-.94-.94-2.06-.94 2.06-2.06.94zm-11 1L8.5 8.5l.94-2.06 2.06-.94-2.06-.94L8.5 2.5l-.94 2.06-2.06.94zm10 10l.94 2.06.94-2.06 2.06-.94-2.06-.94-.94-2.06-.94 2.06-2.06.94z\"/><path d=\"M17.41 7.96l-1.37-1.37c-.4-.4-.92-.59-1.43-.59-.52 0-1.04.2-1.43.59L10.3 9.45l-7.72 7.72c-.78.78-.78 2.05 0 2.83L4 21.41c.39.39.9.59 1.41.59.51 0 1.02-.2 1.41-.59l7.78-7.78 2.81-2.81c.8-.78.8-2.07 0-2.86zM5.41 20L4 18.59l7.72-7.72 1.47 1.35L5.41 20z\"/>\n",
              "  </svg>\n",
              "      </button>\n",
              "      \n",
              "  <style>\n",
              "    .colab-df-container {\n",
              "      display:flex;\n",
              "      flex-wrap:wrap;\n",
              "      gap: 12px;\n",
              "    }\n",
              "\n",
              "    .colab-df-convert {\n",
              "      background-color: #E8F0FE;\n",
              "      border: none;\n",
              "      border-radius: 50%;\n",
              "      cursor: pointer;\n",
              "      display: none;\n",
              "      fill: #1967D2;\n",
              "      height: 32px;\n",
              "      padding: 0 0 0 0;\n",
              "      width: 32px;\n",
              "    }\n",
              "\n",
              "    .colab-df-convert:hover {\n",
              "      background-color: #E2EBFA;\n",
              "      box-shadow: 0px 1px 2px rgba(60, 64, 67, 0.3), 0px 1px 3px 1px rgba(60, 64, 67, 0.15);\n",
              "      fill: #174EA6;\n",
              "    }\n",
              "\n",
              "    [theme=dark] .colab-df-convert {\n",
              "      background-color: #3B4455;\n",
              "      fill: #D2E3FC;\n",
              "    }\n",
              "\n",
              "    [theme=dark] .colab-df-convert:hover {\n",
              "      background-color: #434B5C;\n",
              "      box-shadow: 0px 1px 3px 1px rgba(0, 0, 0, 0.15);\n",
              "      filter: drop-shadow(0px 1px 2px rgba(0, 0, 0, 0.3));\n",
              "      fill: #FFFFFF;\n",
              "    }\n",
              "  </style>\n",
              "\n",
              "      <script>\n",
              "        const buttonEl =\n",
              "          document.querySelector('#df-6a85f985-d295-4fa8-9bbc-9fab4739169b button.colab-df-convert');\n",
              "        buttonEl.style.display =\n",
              "          google.colab.kernel.accessAllowed ? 'block' : 'none';\n",
              "\n",
              "        async function convertToInteractive(key) {\n",
              "          const element = document.querySelector('#df-6a85f985-d295-4fa8-9bbc-9fab4739169b');\n",
              "          const dataTable =\n",
              "            await google.colab.kernel.invokeFunction('convertToInteractive',\n",
              "                                                     [key], {});\n",
              "          if (!dataTable) return;\n",
              "\n",
              "          const docLinkHtml = 'Like what you see? Visit the ' +\n",
              "            '<a target=\"_blank\" href=https://colab.research.google.com/notebooks/data_table.ipynb>data table notebook</a>'\n",
              "            + ' to learn more about interactive tables.';\n",
              "          element.innerHTML = '';\n",
              "          dataTable['output_type'] = 'display_data';\n",
              "          await google.colab.output.renderOutput(dataTable, element);\n",
              "          const docLink = document.createElement('div');\n",
              "          docLink.innerHTML = docLinkHtml;\n",
              "          element.appendChild(docLink);\n",
              "        }\n",
              "      </script>\n",
              "    </div>\n",
              "  </div>\n",
              "  "
            ]
          },
          "metadata": {},
          "execution_count": 63
        }
      ]
    },
    {
      "cell_type": "code",
      "source": [
        "ml_result = ml_result.sort_values(by='SK_ID_CURR')"
      ],
      "metadata": {
        "id": "8ZoeYAcYV0YU"
      },
      "execution_count": null,
      "outputs": []
    },
    {
      "cell_type": "code",
      "source": [
        "print(ml_result)"
      ],
      "metadata": {
        "colab": {
          "base_uri": "https://localhost:8080/"
        },
        "id": "0ZHxYZY5WV7U",
        "outputId": "95cacbd7-b9d5-475e-8faf-9e0367c82d31"
      },
      "execution_count": null,
      "outputs": [
        {
          "output_type": "stream",
          "name": "stdout",
          "text": [
            "        SK_ID_CURR  prediction_target        status  \\\n",
            "19          100023                  0  Not Accepted   \n",
            "23          100027                  0  Not Accepted   \n",
            "26          100031                  0  Not Accepted   \n",
            "30          100035                  0  Not Accepted   \n",
            "32          100037                  0  Not Accepted   \n",
            "...            ...                ...           ...   \n",
            "190228      320559                  0  Not Accepted   \n",
            "190230      320563                  0  Not Accepted   \n",
            "190234      320570                  0  Not Accepted   \n",
            "190237      320573                  0  Not Accepted   \n",
            "190241      320577                  0  Not Accepted   \n",
            "\n",
            "                                      probability  \n",
            "19       [0.879471512617842, 0.12052848738215807]  \n",
            "23      [0.9458623139201714, 0.05413768607982859]  \n",
            "26      [0.8770613296068024, 0.12293867039319757]  \n",
            "30         [0.884686341017423, 0.115313658982577]  \n",
            "32       [0.9020037257410513, 0.0979962742589487]  \n",
            "...                                           ...  \n",
            "190228  [0.9319956929603589, 0.06800430703964114]  \n",
            "190230  [0.9118283985111787, 0.08817160148882129]  \n",
            "190234  [0.9723783307973614, 0.02762166920263861]  \n",
            "190237  [0.9143202049155164, 0.08567979508448365]  \n",
            "190241  [0.9547421149543249, 0.04525788504567505]  \n",
            "\n",
            "[57073 rows x 4 columns]\n"
          ]
        }
      ]
    },
    {
      "cell_type": "code",
      "source": [
        "# Store ML Test Result\n",
        "# ml_result.to_sql('home_credit_default_risk_application_ml_result', engine, if_exists='replace', index=False)"
      ],
      "metadata": {
        "id": "Pc30YB_ierTk"
      },
      "execution_count": null,
      "outputs": []
    }
  ]
}